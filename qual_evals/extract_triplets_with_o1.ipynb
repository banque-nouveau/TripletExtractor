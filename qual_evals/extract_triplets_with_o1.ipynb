{
 "cells": [
  {
   "cell_type": "code",
   "execution_count": null,
   "metadata": {},
   "outputs": [],
   "source": [
    "from openai import OpenAI\n",
    "\n",
    "client = OpenAI(\n",
    "    api_key=\"\",\n",
    ")"
   ]
  },
  {
   "cell_type": "code",
   "execution_count": null,
   "metadata": {},
   "outputs": [],
   "source": [
    "def get_prediction(news_prompt, client):\n",
    "    content = \"\"\"\n",
    "    Note that the entities should not be generic, numerical or temporal (like dates or percentages). Entities must be classified into the following categories: ORG: Organizations other than government or regulatory bodies\n",
    "    ORGGOV: Government bodies (e.g., \"United States Government\")\n",
    "    ORGREG: Regulatory bodies (e.g., \"Federal Reserve\")\n",
    "    PERSON: Individuals (e.g., \"Elon Musk\")\n",
    "    GPE: Geopolitical entities such as countries, cities, etc. (e.g., \"Germany\")\n",
    "    COMP: Companies (e.g., \"Google\")\n",
    "    PRODUCT: Products or services (e.g., \"iPhone\")\n",
    "    EVENT: Specific and Material Events (e.g., \"Olympic Games\", \"Covid-19\")\n",
    "    SECTOR: Company sectors or industries (e.g., \"Technology sector\")\n",
    "    ECON_INDICATOR: Economic indicators (e.g., \"Inflation rate\"), numerical value like \"10%\" is not a ECON_INDICATOR; FIN_INSTRUMENT: Financial and market instruments (e.g., \"Stocks\", \"Global Markets\")\n",
    "    CONCEPT: Abstract ideas or notions or themes (e.g., \"Inflation\", \"AI\", \"Climate Change\")\n",
    "    The relationships 'r' between these entities must be represented by one of the following relation verbs set: Has, Announce, Operate_In, Introduce, Produce, Control, Participates_In, Impact, Positive_Impact_On, Negative_Impact_On, Relate_To, Is_Member_Of, Invests_In, Raise, Decrease. Remember to conduct entity disambiguation, consolidating different phrases or acronyms that refer to the same entity (for instance, \"UK Central Bank\", \"BOE\" and \"Bank of England\" should be unified as \"Bank of England\"). Simplify each entity of the triplet to be less than four words.\n",
    "    From this text, your output Must be in python dict made up of nested list made up of ['h', 'type', 'r', 'o', 'type'], where the relationship 'r' must be in the given relation verbs set above. Only output the list. \n",
    "    As an Example, consider the following news excerpt:\n",
    "    Input: 'Apple Inc. is set to introduce the new iPhone 14 in the technology sector this month. The product's release is likely to positively impact Apple's stock value.' \n",
    "    OUTPUT:{\"output\":[['Apple Inc.', 'COMP', 'Introduce', 'iPhone 14', 'PRODUCT'], ['Apple Inc.', 'COMP', 'Operate_In', 'Technology Sector', 'SECTOR'], ['iPhone 14', 'PRODUCT', *Positive_Impact_On', 'Apple's Stock Value', 'FIN_INSTRUMENT']]} Dont use output like \"Based on the given input text, here is the output in the required format:\"\n",
    "    The output MUST be json object made up of nested list and MUST not be anything apart from above OUTPUT. Return only the json object. \n",
    "    INPUT_TEXT:\n",
    "    \"\"\" + news_prompt\n",
    "\n",
    "    response = client.chat.completions.create(model=\"o1-preview\", messages= [{ \"role\": \"user\", \"content\": content }])\n",
    "    content = response.choices[0].message.content\n",
    "    print(content)\n",
    "    return content"
   ]
  },
  {
   "cell_type": "code",
   "execution_count": null,
   "metadata": {},
   "outputs": [],
   "source": [
    "import re\n",
    "import json\n",
    "\n",
    "def fix_json_string(json_string):\n",
    "    # Replace single quotes with double quotes\n",
    "    json_string = re.sub(r\"(?<!\\\\)'\", '\"', json_string)\n",
    "    \n",
    "    # Handle the case where trailing commas might be problematic in arrays or objects\n",
    "    json_string = re.sub(r\",(\\s*[}\\]])\", r\"\\1\", json_string)\n",
    "    \n",
    "    try:\n",
    "        # Attempt to parse the corrected JSON string to ensure it's valid\n",
    "        json_obj = json.loads(json_string)\n",
    "    except json.JSONDecodeError as e:\n",
    "        raise ValueError(f\"Invalid JSON format after fixing: {e}\")\n",
    "\n",
    "    return json.dumps(json_obj, indent=2)"
   ]
  },
  {
   "cell_type": "code",
   "execution_count": null,
   "metadata": {},
   "outputs": [],
   "source": [
    "import json\n",
    "\n",
    "def get_triplets(prediction):\n",
    "    fixed_json_string = fix_json_string(prediction)\n",
    "    triplets = json.loads(fixed_json_string)[\"output\"]\n",
    "    return triplets\n",
    "    "
   ]
  },
  {
   "cell_type": "code",
   "execution_count": null,
   "metadata": {},
   "outputs": [],
   "source": [
    "import csv\n",
    "\n",
    "header = [\"id\", \"subject\", \"subject_type\", \"relation\", \"object\", \"object_type\", \"input\", \"wiki_page\"]\n",
    "output_filename = \"data/o1_knowledge_extraction.csv\"\n",
    "input_file_path = 'data/triplex_knowledge_extraction.csv'\n",
    "\n",
    "with open(input_file_path, mode='r') as input_file:\n",
    "    with open(output_filename, mode='w', newline='') as output_file:\n",
    "        writer = csv.writer(output_file)\n",
    "        writer.writerow(header)\n",
    "        reader = csv.DictReader(input_file)\n",
    "        \n",
    "        previous_id = None\n",
    "        for row in reader:\n",
    "            current_id = row['idx']\n",
    "            if current_id != previous_id:\n",
    "                print(row['idx'])\n",
    "                text = row['input']\n",
    "                prediction = get_prediction(text, client)\n",
    "                try:\n",
    "                    triplets = get_triplets(prediction)\n",
    "                except:\n",
    "                    print(\"Error: \" + str(current_id))\n",
    "                    previous_id = current_id\n",
    "                    continue\n",
    "                for triplet in triplets:\n",
    "                    triplet.insert(0, row['idx'])\n",
    "                    triplet.append(row['input'])\n",
    "                    triplet.append(\"\")\n",
    "                    writer.writerow(triplet)\n",
    "            previous_id = current_id\n",
    "      \n",
    "\n",
    "print(f\"CSV file '{output_file}' has been created successfully.\")\n"
   ]
  }
 ],
 "metadata": {
  "kernelspec": {
   "display_name": "trextractor",
   "language": "python",
   "name": "python3"
  },
  "language_info": {
   "codemirror_mode": {
    "name": "ipython",
    "version": 3
   },
   "file_extension": ".py",
   "mimetype": "text/x-python",
   "name": "python",
   "nbconvert_exporter": "python",
   "pygments_lexer": "ipython3",
   "version": "3.11.0"
  }
 },
 "nbformat": 4,
 "nbformat_minor": 2
}
