{
 "cells": [
  {
   "cell_type": "markdown",
   "metadata": {},
   "source": [
    "## Problems with extracting triplets and approaches to solve the problems\n",
    "\n",
    "Even when the text from which we wish to extract the triplets are pure text, we have noticed that there are pronouns and sometimes different people or organziations can have similar names. Here is an attempt to solve this. The input documents are wikipedia pages regarding Hillary Clinton, Bill Clintons preesidency, the Hillary Clinton email controversy giving plenty of chances for name confusion\n",
    "\n",
    "The approach here is to have an LLM try to replace the text by using the correct full name from the context and not changing much else."
   ]
  },
  {
   "cell_type": "code",
   "execution_count": null,
   "metadata": {},
   "outputs": [],
   "source": [
    "from dotenv import load_dotenv\n",
    "import json\n",
    "import openai\n",
    "import glob\n",
    "from pathlib import Path\n",
    "import os"
   ]
  },
  {
   "cell_type": "markdown",
   "metadata": {},
   "source": [
    "## Obtain the pdf file and convert to text in some ways"
   ]
  },
  {
   "cell_type": "code",
   "execution_count": null,
   "metadata": {},
   "outputs": [],
   "source": [
    "\n",
    "def get_wiki_data(fname):\n",
    "    with open(fname, \"r\") as f:\n",
    "        data_ltext = f.read()\n",
    "\n",
    "    chunks = data_ltext.split(\".\\n\")   \n",
    "    \n",
    "    data_path = Path(fname).parent\n",
    "    name = Path(fname).name.split(\".txt\")[0]\n",
    "\n",
    "    dirpath = Path(data_path)/name\n",
    "    os.makedirs(dirpath, exist_ok=True)\n",
    "    return data_ltext, chunks, dirpath, name\n"
   ]
  },
  {
   "cell_type": "code",
   "execution_count": null,
   "metadata": {},
   "outputs": [],
   "source": [
    "def get_prompt(text):\n",
    "    return f\"Given the text surrounded by triple backticks, please return the same text with minimal modifications but replacing every mention of a name or organization by its full name (as available) and also replace the pronouns by the full names of the entity which they refer to. If the full name corresponding to a pronoun or a name is not available, then leave it as it is rather than making up an answer. ```{text}```\"\n"
   ]
  },
  {
   "cell_type": "code",
   "execution_count": null,
   "metadata": {},
   "outputs": [],
   "source": [
    "fnames = glob.glob(\"../data/wikipedia/data/wiki_text*.txt\")"
   ]
  },
  {
   "cell_type": "code",
   "execution_count": null,
   "metadata": {},
   "outputs": [],
   "source": [
    "dirpath = Path(\"data/rephrasing\")\n",
    "os.makedirs(dirpath, exist_ok=True)\n",
    "#print(f\"{dirpath=}\")\n",
    "#out_name = f\"{dirpath}/{Path(fname).name}_{i}.json\"\n",
    "#print(f\"Writing to {out_name=}\")\n",
    "#exit()\n",
    "load_dotenv()\n",
    "client = openai.OpenAI(timeout=60)\n",
    "for fname in fnames:\n",
    "    print(f\"{fname=}\")\n",
    "    data_text, chunks, _, name = get_wiki_data(fname)\n",
    "\n",
    "    for i, chunk in enumerate(chunks):\n",
    "        prompt = get_prompt(chunk)\n",
    "        response = client.chat.completions.create(model='gpt-4o',\n",
    "                                                temperature=0.0, \n",
    "                                                top_p=0.3,           \n",
    "                                                messages=[{ \"role\": \"user\",\"content\":prompt}])\n",
    "        out_name = f\"{dirpath}/{Path(fname).name}_{i}.json\"\n",
    "        print(f\"Writing to {out_name=} for chunk {i} of {len(chunks)}\")  \n",
    "        results=dict(input=chunk, output=response.choices[0].message.content)\n",
    "        with open(out_name, \"w\") as f:\n",
    "            f.write(json.dumps(results, indent=4))"
   ]
  },
  {
   "cell_type": "code",
   "execution_count": null,
   "metadata": {},
   "outputs": [],
   "source": []
  }
 ],
 "metadata": {
  "kernelspec": {
   "display_name": "trextractor",
   "language": "python",
   "name": "python3"
  },
  "language_info": {
   "codemirror_mode": {
    "name": "ipython",
    "version": 3
   },
   "file_extension": ".py",
   "mimetype": "text/x-python",
   "name": "python",
   "nbconvert_exporter": "python",
   "pygments_lexer": "ipython3",
   "version": "3.10.14"
  }
 },
 "nbformat": 4,
 "nbformat_minor": 2
}
