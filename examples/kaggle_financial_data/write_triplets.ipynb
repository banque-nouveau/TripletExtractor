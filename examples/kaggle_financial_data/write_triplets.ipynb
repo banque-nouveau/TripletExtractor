{
 "cells": [
  {
   "cell_type": "code",
   "execution_count": 1,
   "metadata": {},
   "outputs": [],
   "source": [
    "import json\n",
    "from pathlib import Path\n",
    "import os\n",
    "import glob\n",
    "from dotenv import load_dotenv\n",
    "import pandas as pd"
   ]
  },
  {
   "cell_type": "code",
   "execution_count": 2,
   "metadata": {},
   "outputs": [
    {
     "data": {
      "text/plain": [
       "True"
      ]
     },
     "execution_count": 2,
     "metadata": {},
     "output_type": "execute_result"
    }
   ],
   "source": [
    "load_dotenv()"
   ]
  },
  {
   "cell_type": "code",
   "execution_count": 3,
   "metadata": {},
   "outputs": [],
   "source": [
    "kaggle_dataset_path = Path(os.getenv(\"KAGGLE_DATASET_PATH\"))"
   ]
  },
  {
   "cell_type": "code",
   "execution_count": 4,
   "metadata": {},
   "outputs": [],
   "source": [
    "dirname = kaggle_dataset_path/'subset/rephrased_subset' "
   ]
  },
  {
   "cell_type": "code",
   "execution_count": 5,
   "metadata": {},
   "outputs": [],
   "source": [
    "fnames = glob.glob(str(dirname/'*.json'))"
   ]
  },
  {
   "cell_type": "code",
   "execution_count": 6,
   "metadata": {},
   "outputs": [],
   "source": [
    "csv_dir = kaggle_dataset_path/\"subset/triplet_csvs\"\n",
    "csv_dir.mkdir(exist_ok=True)"
   ]
  },
  {
   "cell_type": "code",
   "execution_count": 7,
   "metadata": {},
   "outputs": [
    {
     "name": "stdout",
     "output_type": "stream",
     "text": [
      "/Users/rbiswas/soft/miniforge3/envs/trextractor/lib/python3.10/site-packages/trextractor-0.0.1-py3.10.egg/trextractor/prompts\n"
     ]
    }
   ],
   "source": [
    "from trextractor import KGTriplets \n",
    "kgtriplets = KGTriplets(use_minio=False)"
   ]
  },
  {
   "cell_type": "code",
   "execution_count": 8,
   "metadata": {},
   "outputs": [],
   "source": [
    "def write_kgtrip(fname, csv_dir, kgtrip=kgtriplets, model=\"gpt-4o\"):\n",
    "    with open(fname, 'r') as f:\n",
    "        data = json.load(f)\n",
    "\n",
    "\n",
    "    text = data['rephrased_text']\n",
    "    uuid = data['uuid']\n",
    "    response = kgtriplets.get_knowledge_graph_representation(text, model=model,\n",
    "                                                          use_instructor=True)\n",
    "    input_df, output_df = KGTriplets.wrap(response)\n",
    "    output_df['uuid'] = uuid\n",
    "    output_df['text'] = text\n",
    "    # print(fname)\n",
    "    outname = csv_dir/f\"{Path(fname).name.split('.json')[0] +'.csv'}\"\n",
    "    output_df.to_csv(outname, index=False)  \n",
    "    return output_df\n",
    "\n"
   ]
  },
  {
   "cell_type": "code",
   "execution_count": 9,
   "metadata": {},
   "outputs": [
    {
     "name": "stdout",
     "output_type": "stream",
     "text": [
      "There are 100 files to process \n",
      "\n",
      "i=0 and there are len(bads)=0 failures\n",
      "\n",
      "/Users/rbiswas/doc/sebx/data/kaggle_financial_data/subset/rephrased_subset/news_0023363.json\n",
      "i=5 and there are len(bads)=1 failures\n",
      "\n",
      "i=10 and there are len(bads)=1 failures\n",
      "\n",
      "/Users/rbiswas/doc/sebx/data/kaggle_financial_data/subset/rephrased_subset/news_0004913.json\n",
      "i=15 and there are len(bads)=2 failures\n",
      "\n",
      "/Users/rbiswas/doc/sebx/data/kaggle_financial_data/subset/rephrased_subset/news_0018930.json\n",
      "i=20 and there are len(bads)=3 failures\n",
      "\n",
      "/Users/rbiswas/doc/sebx/data/kaggle_financial_data/subset/rephrased_subset/news_0011212.json\n",
      "/Users/rbiswas/doc/sebx/data/kaggle_financial_data/subset/rephrased_subset/news_0008463.json\n",
      "i=25 and there are len(bads)=5 failures\n",
      "\n",
      "i=30 and there are len(bads)=5 failures\n",
      "\n",
      "i=35 and there are len(bads)=5 failures\n",
      "\n",
      "/Users/rbiswas/doc/sebx/data/kaggle_financial_data/subset/rephrased_subset/news_0000053.json\n",
      "i=40 and there are len(bads)=6 failures\n",
      "\n",
      "i=45 and there are len(bads)=6 failures\n",
      "\n",
      "i=50 and there are len(bads)=6 failures\n",
      "\n",
      "/Users/rbiswas/doc/sebx/data/kaggle_financial_data/subset/rephrased_subset/news_0015601.json\n",
      "/Users/rbiswas/doc/sebx/data/kaggle_financial_data/subset/rephrased_subset/news_0014913.json\n",
      "/Users/rbiswas/doc/sebx/data/kaggle_financial_data/subset/rephrased_subset/news_0009622.json\n",
      "i=55 and there are len(bads)=9 failures\n",
      "\n",
      "i=60 and there are len(bads)=9 failures\n",
      "\n",
      "/Users/rbiswas/doc/sebx/data/kaggle_financial_data/subset/rephrased_subset/news_0053962.json\n",
      "i=65 and there are len(bads)=10 failures\n",
      "\n",
      "i=70 and there are len(bads)=10 failures\n",
      "\n",
      "/Users/rbiswas/doc/sebx/data/kaggle_financial_data/subset/rephrased_subset/news_0027770.json\n",
      "/Users/rbiswas/doc/sebx/data/kaggle_financial_data/subset/rephrased_subset/news_0010403.json\n",
      "i=75 and there are len(bads)=12 failures\n",
      "\n",
      "i=80 and there are len(bads)=12 failures\n",
      "\n",
      "/Users/rbiswas/doc/sebx/data/kaggle_financial_data/subset/rephrased_subset/news_0000950.json\n",
      "i=85 and there are len(bads)=13 failures\n",
      "\n",
      "/Users/rbiswas/doc/sebx/data/kaggle_financial_data/subset/rephrased_subset/news_0004440.json\n",
      "i=90 and there are len(bads)=14 failures\n",
      "\n",
      "i=95 and there are len(bads)=14 failures\n",
      "\n"
     ]
    }
   ],
   "source": [
    "print(f\"There are {len(fnames)} files to process \\n\" )\n",
    "bads = []\n",
    "for i, fname in enumerate(fnames):\n",
    "    try:\n",
    "        out = write_kgtrip(fname, csv_dir, kgtriplets)\n",
    "    except Exception as e:\n",
    "        print(fname)\n",
    "        bads.append((fname, e))\n",
    "    \n",
    "    if i % 5 == 0:\n",
    "        print(f\"{i=} and there are {len(bads)=} failures\\n\")"
   ]
  },
  {
   "cell_type": "code",
   "execution_count": 10,
   "metadata": {},
   "outputs": [],
   "source": [
    "with open('bad_files.txt', 'w') as f:\n",
    "    for bad in bads:\n",
    "        f.write(f\"{bad[0]},{bad[1]}\\n\")"
   ]
  }
 ],
 "metadata": {
  "kernelspec": {
   "display_name": "trextractor",
   "language": "python",
   "name": "python3"
  },
  "language_info": {
   "codemirror_mode": {
    "name": "ipython",
    "version": 3
   },
   "file_extension": ".py",
   "mimetype": "text/x-python",
   "name": "python",
   "nbconvert_exporter": "python",
   "pygments_lexer": "ipython3",
   "version": "3.10.14"
  }
 },
 "nbformat": 4,
 "nbformat_minor": 2
}
