{
 "cells": [
  {
   "cell_type": "code",
   "execution_count": 1,
   "metadata": {},
   "outputs": [],
   "source": [
    "from dotenv import load_dotenv\n",
    "import json\n",
    "import openai\n",
    "import glob\n",
    "from pathlib import Path\n",
    "import os\n",
    "import glob\n"
   ]
  },
  {
   "cell_type": "code",
   "execution_count": 2,
   "metadata": {},
   "outputs": [],
   "source": [
    "load_dotenv()\n",
    "kaggle_data_path_str = os.getenv('KAGGLE_DATASET_PATH')\n",
    "kaggle_data_path = Path(kaggle_data_path_str)/'subset'"
   ]
  },
  {
   "cell_type": "code",
   "execution_count": 3,
   "metadata": {},
   "outputs": [],
   "source": [
    "fnames = glob.glob(str(kaggle_data_path/'*.json'))"
   ]
  },
  {
   "cell_type": "code",
   "execution_count": 4,
   "metadata": {},
   "outputs": [
    {
     "data": {
      "text/plain": [
       "['/Users/rbiswas/doc/sebx/data/kaggle_financial_data/subset/news_0047188.json',\n",
       " '/Users/rbiswas/doc/sebx/data/kaggle_financial_data/subset/news_0014010.json',\n",
       " '/Users/rbiswas/doc/sebx/data/kaggle_financial_data/subset/news_0042670.json',\n",
       " '/Users/rbiswas/doc/sebx/data/kaggle_financial_data/subset/news_0038485.json',\n",
       " '/Users/rbiswas/doc/sebx/data/kaggle_financial_data/subset/news_0023363.json',\n",
       " '/Users/rbiswas/doc/sebx/data/kaggle_financial_data/subset/news_0043962.json',\n",
       " '/Users/rbiswas/doc/sebx/data/kaggle_financial_data/subset/news_0036862.json',\n",
       " '/Users/rbiswas/doc/sebx/data/kaggle_financial_data/subset/news_0000403.json',\n",
       " '/Users/rbiswas/doc/sebx/data/kaggle_financial_data/subset/news_0056263.json',\n",
       " '/Users/rbiswas/doc/sebx/data/kaggle_financial_data/subset/news_0032088.json',\n",
       " '/Users/rbiswas/doc/sebx/data/kaggle_financial_data/subset/news_0037770.json',\n",
       " '/Users/rbiswas/doc/sebx/data/kaggle_financial_data/subset/blogs_0040123.json',\n",
       " '/Users/rbiswas/doc/sebx/data/kaggle_financial_data/subset/news_0048787.json',\n",
       " '/Users/rbiswas/doc/sebx/data/kaggle_financial_data/subset/news_0004913.json',\n",
       " '/Users/rbiswas/doc/sebx/data/kaggle_financial_data/subset/news_0032572.json',\n",
       " '/Users/rbiswas/doc/sebx/data/kaggle_financial_data/subset/news_0019622.json',\n",
       " '/Users/rbiswas/doc/sebx/data/kaggle_financial_data/subset/news_0018930.json',\n",
       " '/Users/rbiswas/doc/sebx/data/kaggle_financial_data/subset/news_0029294.json',\n",
       " '/Users/rbiswas/doc/sebx/data/kaggle_financial_data/subset/news_0056799.json',\n",
       " '/Users/rbiswas/doc/sebx/data/kaggle_financial_data/subset/news_0005601.json',\n",
       " '/Users/rbiswas/doc/sebx/data/kaggle_financial_data/subset/news_0053061.json',\n",
       " '/Users/rbiswas/doc/sebx/data/kaggle_financial_data/subset/news_0049895.json',\n",
       " '/Users/rbiswas/doc/sebx/data/kaggle_financial_data/subset/news_0023699.json',\n",
       " '/Users/rbiswas/doc/sebx/data/kaggle_financial_data/subset/news_0011212.json',\n",
       " '/Users/rbiswas/doc/sebx/data/kaggle_financial_data/subset/news_0047472.json',\n",
       " '/Users/rbiswas/doc/sebx/data/kaggle_financial_data/subset/news_0008463.json',\n",
       " '/Users/rbiswas/doc/sebx/data/kaggle_financial_data/subset/news_0023733.json',\n",
       " '/Users/rbiswas/doc/sebx/data/kaggle_financial_data/subset/news_0042220.json',\n",
       " '/Users/rbiswas/doc/sebx/data/kaggle_financial_data/subset/news_0014440.json',\n",
       " '/Users/rbiswas/doc/sebx/data/kaggle_financial_data/subset/news_0013385.json',\n",
       " '/Users/rbiswas/doc/sebx/data/kaggle_financial_data/subset/news_0022821.json',\n",
       " '/Users/rbiswas/doc/sebx/data/kaggle_financial_data/subset/news_0019788.json',\n",
       " '/Users/rbiswas/doc/sebx/data/kaggle_financial_data/subset/news_0037320.json',\n",
       " '/Users/rbiswas/doc/sebx/data/kaggle_financial_data/subset/news_0006884.json',\n",
       " '/Users/rbiswas/doc/sebx/data/kaggle_financial_data/subset/news_0007796.json',\n",
       " '/Users/rbiswas/doc/sebx/data/kaggle_financial_data/subset/news_0056633.json',\n",
       " '/Users/rbiswas/doc/sebx/data/kaggle_financial_data/subset/news_0000053.json',\n",
       " '/Users/rbiswas/doc/sebx/data/kaggle_financial_data/subset/news_0002594.json',\n",
       " '/Users/rbiswas/doc/sebx/data/kaggle_financial_data/subset/news_0053431.json',\n",
       " '/Users/rbiswas/doc/sebx/data/kaggle_financial_data/subset/news_0005251.json',\n",
       " '/Users/rbiswas/doc/sebx/data/kaggle_financial_data/subset/news_0019272.json',\n",
       " '/Users/rbiswas/doc/sebx/data/kaggle_financial_data/subset/news_0032122.json',\n",
       " '/Users/rbiswas/doc/sebx/data/kaggle_financial_data/subset/news_0047022.json',\n",
       " '/Users/rbiswas/doc/sebx/data/kaggle_financial_data/subset/news_0011642.json',\n",
       " '/Users/rbiswas/doc/sebx/data/kaggle_financial_data/subset/news_0016187.json',\n",
       " '/Users/rbiswas/doc/sebx/data/kaggle_financial_data/subset/news_0008199.json',\n",
       " '/Users/rbiswas/doc/sebx/data/kaggle_financial_data/subset/news_0026531.json',\n",
       " '/Users/rbiswas/doc/sebx/data/kaggle_financial_data/subset/news_0010950.json',\n",
       " '/Users/rbiswas/doc/sebx/data/kaggle_financial_data/subset/news_0008930.json',\n",
       " '/Users/rbiswas/doc/sebx/data/kaggle_financial_data/subset/news_0039294.json',\n",
       " '/Users/rbiswas/doc/sebx/data/kaggle_financial_data/subset/news_0046799.json',\n",
       " '/Users/rbiswas/doc/sebx/data/kaggle_financial_data/subset/news_0043061.json',\n",
       " '/Users/rbiswas/doc/sebx/data/kaggle_financial_data/subset/news_0015601.json',\n",
       " '/Users/rbiswas/doc/sebx/data/kaggle_financial_data/subset/news_0014913.json',\n",
       " '/Users/rbiswas/doc/sebx/data/kaggle_financial_data/subset/news_0009622.json',\n",
       " '/Users/rbiswas/doc/sebx/data/kaggle_financial_data/subset/news_0022572.json',\n",
       " '/Users/rbiswas/doc/sebx/data/kaggle_financial_data/subset/news_0057472.json',\n",
       " '/Users/rbiswas/doc/sebx/data/kaggle_financial_data/subset/news_0001212.json',\n",
       " '/Users/rbiswas/doc/sebx/data/kaggle_financial_data/subset/news_0033699.json',\n",
       " '/Users/rbiswas/doc/sebx/data/kaggle_financial_data/subset/blogs_0015495.json',\n",
       " '/Users/rbiswas/doc/sebx/data/kaggle_financial_data/subset/news_0036161.json',\n",
       " '/Users/rbiswas/doc/sebx/data/kaggle_financial_data/subset/blogs_0012350.json',\n",
       " '/Users/rbiswas/doc/sebx/data/kaggle_financial_data/subset/news_0018033.json',\n",
       " '/Users/rbiswas/doc/sebx/data/kaggle_financial_data/subset/news_0033363.json',\n",
       " '/Users/rbiswas/doc/sebx/data/kaggle_financial_data/subset/news_0053962.json',\n",
       " '/Users/rbiswas/doc/sebx/data/kaggle_financial_data/subset/news_0049196.json',\n",
       " '/Users/rbiswas/doc/sebx/data/kaggle_financial_data/subset/news_0057188.json',\n",
       " '/Users/rbiswas/doc/sebx/data/kaggle_financial_data/subset/news_0052670.json',\n",
       " '/Users/rbiswas/doc/sebx/data/kaggle_financial_data/subset/news_0004010.json',\n",
       " '/Users/rbiswas/doc/sebx/data/kaggle_financial_data/subset/blogs_0011985.json',\n",
       " '/Users/rbiswas/doc/sebx/data/kaggle_financial_data/subset/news_0028485.json',\n",
       " '/Users/rbiswas/doc/sebx/data/kaggle_financial_data/subset/news_0022088.json',\n",
       " '/Users/rbiswas/doc/sebx/data/kaggle_financial_data/subset/news_0027770.json',\n",
       " '/Users/rbiswas/doc/sebx/data/kaggle_financial_data/subset/news_0026862.json',\n",
       " '/Users/rbiswas/doc/sebx/data/kaggle_financial_data/subset/news_0010403.json',\n",
       " '/Users/rbiswas/doc/sebx/data/kaggle_financial_data/subset/news_0022122.json',\n",
       " '/Users/rbiswas/doc/sebx/data/kaggle_financial_data/subset/news_0009272.json',\n",
       " '/Users/rbiswas/doc/sebx/data/kaggle_financial_data/subset/blogs_0031060.json',\n",
       " '/Users/rbiswas/doc/sebx/data/kaggle_financial_data/subset/news_0012594.json',\n",
       " '/Users/rbiswas/doc/sebx/data/kaggle_financial_data/subset/news_0015251.json',\n",
       " '/Users/rbiswas/doc/sebx/data/kaggle_financial_data/subset/news_0043431.json',\n",
       " '/Users/rbiswas/doc/sebx/data/kaggle_financial_data/subset/news_0018199.json',\n",
       " '/Users/rbiswas/doc/sebx/data/kaggle_financial_data/subset/news_0036531.json',\n",
       " '/Users/rbiswas/doc/sebx/data/kaggle_financial_data/subset/news_0000950.json',\n",
       " '/Users/rbiswas/doc/sebx/data/kaggle_financial_data/subset/news_0001642.json',\n",
       " '/Users/rbiswas/doc/sebx/data/kaggle_financial_data/subset/news_0057022.json',\n",
       " '/Users/rbiswas/doc/sebx/data/kaggle_financial_data/subset/news_0006187.json',\n",
       " '/Users/rbiswas/doc/sebx/data/kaggle_financial_data/subset/news_0004440.json',\n",
       " '/Users/rbiswas/doc/sebx/data/kaggle_financial_data/subset/news_0052220.json',\n",
       " '/Users/rbiswas/doc/sebx/data/kaggle_financial_data/subset/news_0003385.json',\n",
       " '/Users/rbiswas/doc/sebx/data/kaggle_financial_data/subset/news_0033733.json',\n",
       " '/Users/rbiswas/doc/sebx/data/kaggle_financial_data/subset/news_0018463.json',\n",
       " '/Users/rbiswas/doc/sebx/data/kaggle_financial_data/subset/news_0017796.json',\n",
       " '/Users/rbiswas/doc/sebx/data/kaggle_financial_data/subset/news_0010053.json',\n",
       " '/Users/rbiswas/doc/sebx/data/kaggle_financial_data/subset/news_0046633.json',\n",
       " '/Users/rbiswas/doc/sebx/data/kaggle_financial_data/subset/news_0047921.json',\n",
       " '/Users/rbiswas/doc/sebx/data/kaggle_financial_data/subset/news_0009788.json',\n",
       " '/Users/rbiswas/doc/sebx/data/kaggle_financial_data/subset/news_0027320.json',\n",
       " '/Users/rbiswas/doc/sebx/data/kaggle_financial_data/subset/news_0016884.json',\n",
       " '/Users/rbiswas/doc/sebx/data/kaggle_financial_data/subset/news_0033226.json',\n",
       " '/Users/rbiswas/doc/sebx/data/kaggle_financial_data/subset/news_0002982.json']"
      ]
     },
     "execution_count": 4,
     "metadata": {},
     "output_type": "execute_result"
    }
   ],
   "source": [
    "fnames"
   ]
  },
  {
   "cell_type": "code",
   "execution_count": 5,
   "metadata": {},
   "outputs": [],
   "source": [
    "def get_prompt(text):\n",
    "    return f\"Given the text surrounded by triple backticks, please return the same text with minimal modifications but replacing every mention of a name or organization by its full name (as available) and also replace the pronouns by the full names of the entity which they refer to. If the full name corresponding to a pronoun or a name is not available, then leave it as it is rather than making up an answer. ```{text}```\""
   ]
  },
  {
   "cell_type": "code",
   "execution_count": 6,
   "metadata": {},
   "outputs": [],
   "source": [
    "def get_rephrased_text(text, client):\n",
    "    prompt = get_prompt(text)\n",
    "    response = client.chat.completions.create(model='gpt-4o',\n",
    "                                                temperature=0.0, \n",
    "                                                top_p=0.3,           \n",
    "                                                messages=[{ \"role\": \"user\",\"content\":prompt}])\n",
    "\n",
    "    rephrased_text = response.choices[0].message.content\n",
    "    if response.choices[0].finish_reason == 'stop':\n",
    "        return rephrased_text, True\n",
    "    else:\n",
    "        return rephrased_text, False\n",
    "\n",
    "\n",
    "    "
   ]
  },
  {
   "cell_type": "code",
   "execution_count": 7,
   "metadata": {},
   "outputs": [],
   "source": [
    "def write_rephrased_json(fname:str, rephrased_data_path): \n",
    "    \"\"\"\n",
    "    Given a json file, read the text and write the rephrased text back to the file\n",
    "    \"\"\"\n",
    "    with open(fname, 'r') as f:\n",
    "        data = json.load(f)\n",
    "    text = data['text']\n",
    "    try:\n",
    "        rephrased_text, success = get_rephrased_text(text, openai)\n",
    "    except:\n",
    "        success = False\n",
    "\n",
    "    if success:\n",
    "        data['rephrased_text'] = rephrased_text\n",
    "        with open(rephrased_data_path/fname.split('/')[-1], 'w') as f:\n",
    "            json.dump(data, f)\n",
    "\n",
    "    return success"
   ]
  },
  {
   "cell_type": "code",
   "execution_count": 8,
   "metadata": {},
   "outputs": [],
   "source": [
    "\n",
    "bads = []\n",
    "rephrased_data_path = kaggle_data_path/'rephrased_subset'\n",
    "\n",
    "os.makedirs(str(kaggle_data_path/'rephrased_subset'), exist_ok=True)\n",
    "\n",
    "client = openai.OpenAI(timeout=60)\n",
    "for fname in fnames:\n",
    "    success = write_rephrased_json(fname, rephrased_data_path=rephrased_data_path)\n",
    "    if not success:\n",
    "        bads.append(fname)"
   ]
  },
  {
   "cell_type": "code",
   "execution_count": 9,
   "metadata": {},
   "outputs": [
    {
     "data": {
      "text/plain": [
       "['/Users/rbiswas/doc/sebx/data/kaggle_financial_data/subset/news_0043431.json']"
      ]
     },
     "execution_count": 9,
     "metadata": {},
     "output_type": "execute_result"
    }
   ],
   "source": [
    "bads"
   ]
  },
  {
   "cell_type": "code",
   "execution_count": null,
   "metadata": {},
   "outputs": [],
   "source": []
  }
 ],
 "metadata": {
  "kernelspec": {
   "display_name": "trextractor",
   "language": "python",
   "name": "python3"
  },
  "language_info": {
   "codemirror_mode": {
    "name": "ipython",
    "version": 3
   },
   "file_extension": ".py",
   "mimetype": "text/x-python",
   "name": "python",
   "nbconvert_exporter": "python",
   "pygments_lexer": "ipython3",
   "version": "3.10.14"
  }
 },
 "nbformat": 4,
 "nbformat_minor": 2
}
