{
 "cells": [
  {
   "cell_type": "code",
   "execution_count": 1,
   "metadata": {},
   "outputs": [],
   "source": [
    "text = 'Born in Scranton, Pennsylvania, Biden moved with his family to Delaware in 1953. He graduated from the University of Delaware in 1965 before earning his law degree from Syracuse University in 1968. He was elected to the New Castle County Council in 1970 and the U.S. Senate in 1972, as one of the youngest Senators in history. As a senator, Biden drafted and led the effort to pass the Violent Crime Control and Law Enforcement Act and the Violence Against Women Act. He also oversaw six U.S. Supreme Court confirmation hearings, including the contentious hearings for Robert Bork and Clarence Thomas. Biden ran unsuccessfully for the 1988 and 2008 Democratic presidential nominations. In 2008, Obama chose Biden as his running mate, and he was a close counselor to Obama during his two terms as vice president. In the 2020 presidential election, the Democratic Party nominated Biden for president. H'"
   ]
  },
  {
   "cell_type": "code",
   "execution_count": 2,
   "metadata": {},
   "outputs": [],
   "source": [
    "from trextractor import KGTriplets "
   ]
  },
  {
   "cell_type": "code",
   "execution_count": 3,
   "metadata": {},
   "outputs": [
    {
     "data": {
      "text/plain": [
       "900"
      ]
     },
     "execution_count": 3,
     "metadata": {},
     "output_type": "execute_result"
    }
   ],
   "source": [
    "len(text)"
   ]
  },
  {
   "cell_type": "code",
   "execution_count": 5,
   "metadata": {},
   "outputs": [
    {
     "name": "stdout",
     "output_type": "stream",
     "text": [
      "0.0.3\n"
     ]
    }
   ],
   "source": [
    "import trextractor\n",
    "print(trextractor.__version__)"
   ]
  },
  {
   "cell_type": "code",
   "execution_count": 6,
   "metadata": {},
   "outputs": [],
   "source": [
    "text = text[:800]\n",
    "\n",
    "kgtriplets = KGTriplets()\n",
    "response = kgtriplets.get_knowledge_graph_representation(text, model=\"gpt-4o-mini\",\n",
    "                                                          use_instructor=True)"
   ]
  },
  {
   "cell_type": "code",
   "execution_count": 7,
   "metadata": {},
   "outputs": [],
   "source": [
    "input_df, output_df = KGTriplets.wrap(response)"
   ]
  },
  {
   "cell_type": "code",
   "execution_count": null,
   "metadata": {},
   "outputs": [],
   "source": []
  },
  {
   "cell_type": "code",
   "execution_count": 8,
   "metadata": {},
   "outputs": [
    {
     "data": {
      "text/html": [
       "<div>\n",
       "<style scoped>\n",
       "    .dataframe tbody tr th:only-of-type {\n",
       "        vertical-align: middle;\n",
       "    }\n",
       "\n",
       "    .dataframe tbody tr th {\n",
       "        vertical-align: top;\n",
       "    }\n",
       "\n",
       "    .dataframe thead th {\n",
       "        text-align: right;\n",
       "    }\n",
       "</style>\n",
       "<table border=\"1\" class=\"dataframe\">\n",
       "  <thead>\n",
       "    <tr style=\"text-align: right;\">\n",
       "      <th></th>\n",
       "      <th>subject</th>\n",
       "      <th>subject_type</th>\n",
       "      <th>relation</th>\n",
       "      <th>object</th>\n",
       "      <th>object_type</th>\n",
       "    </tr>\n",
       "  </thead>\n",
       "  <tbody>\n",
       "    <tr>\n",
       "      <th>2024-09-13-08:25:49:395351</th>\n",
       "      <td>Biden</td>\n",
       "      <td>PERSON</td>\n",
       "      <td>Elected_To</td>\n",
       "      <td>New Castle County Council</td>\n",
       "      <td>ORG</td>\n",
       "    </tr>\n",
       "    <tr>\n",
       "      <th>2024-09-13-08:25:49:395351</th>\n",
       "      <td>Biden</td>\n",
       "      <td>PERSON</td>\n",
       "      <td>Elected_To</td>\n",
       "      <td>U.S. Senate</td>\n",
       "      <td>ORG</td>\n",
       "    </tr>\n",
       "    <tr>\n",
       "      <th>2024-09-13-08:25:49:395351</th>\n",
       "      <td>Biden</td>\n",
       "      <td>PERSON</td>\n",
       "      <td>Drafted</td>\n",
       "      <td>Violent Crime Control Act</td>\n",
       "      <td>EVENT</td>\n",
       "    </tr>\n",
       "    <tr>\n",
       "      <th>2024-09-13-08:25:49:395351</th>\n",
       "      <td>Biden</td>\n",
       "      <td>PERSON</td>\n",
       "      <td>Led</td>\n",
       "      <td>Violence Against Women Act</td>\n",
       "      <td>EVENT</td>\n",
       "    </tr>\n",
       "    <tr>\n",
       "      <th>2024-09-13-08:25:49:395351</th>\n",
       "      <td>Biden</td>\n",
       "      <td>PERSON</td>\n",
       "      <td>Oversaw</td>\n",
       "      <td>Robert Bork</td>\n",
       "      <td>PERSON</td>\n",
       "    </tr>\n",
       "    <tr>\n",
       "      <th>2024-09-13-08:25:49:395351</th>\n",
       "      <td>Biden</td>\n",
       "      <td>PERSON</td>\n",
       "      <td>Oversaw</td>\n",
       "      <td>Clarence Thomas</td>\n",
       "      <td>PERSON</td>\n",
       "    </tr>\n",
       "    <tr>\n",
       "      <th>2024-09-13-08:25:49:395351</th>\n",
       "      <td>Biden</td>\n",
       "      <td>PERSON</td>\n",
       "      <td>Ran_For</td>\n",
       "      <td>Democratic presidential nominations</td>\n",
       "      <td>EVENT</td>\n",
       "    </tr>\n",
       "    <tr>\n",
       "      <th>2024-09-13-08:25:49:395351</th>\n",
       "      <td>Obama</td>\n",
       "      <td>PERSON</td>\n",
       "      <td>Chosen_As</td>\n",
       "      <td>Running mate</td>\n",
       "      <td>PERSON</td>\n",
       "    </tr>\n",
       "  </tbody>\n",
       "</table>\n",
       "</div>"
      ],
      "text/plain": [
       "                           subject subject_type    relation  \\\n",
       "2024-09-13-08:25:49:395351   Biden       PERSON  Elected_To   \n",
       "2024-09-13-08:25:49:395351   Biden       PERSON  Elected_To   \n",
       "2024-09-13-08:25:49:395351   Biden       PERSON     Drafted   \n",
       "2024-09-13-08:25:49:395351   Biden       PERSON         Led   \n",
       "2024-09-13-08:25:49:395351   Biden       PERSON     Oversaw   \n",
       "2024-09-13-08:25:49:395351   Biden       PERSON     Oversaw   \n",
       "2024-09-13-08:25:49:395351   Biden       PERSON     Ran_For   \n",
       "2024-09-13-08:25:49:395351   Obama       PERSON   Chosen_As   \n",
       "\n",
       "                                                         object object_type  \n",
       "2024-09-13-08:25:49:395351            New Castle County Council         ORG  \n",
       "2024-09-13-08:25:49:395351                          U.S. Senate         ORG  \n",
       "2024-09-13-08:25:49:395351            Violent Crime Control Act       EVENT  \n",
       "2024-09-13-08:25:49:395351           Violence Against Women Act       EVENT  \n",
       "2024-09-13-08:25:49:395351                          Robert Bork      PERSON  \n",
       "2024-09-13-08:25:49:395351                      Clarence Thomas      PERSON  \n",
       "2024-09-13-08:25:49:395351  Democratic presidential nominations       EVENT  \n",
       "2024-09-13-08:25:49:395351                         Running mate      PERSON  "
      ]
     },
     "execution_count": 8,
     "metadata": {},
     "output_type": "execute_result"
    }
   ],
   "source": [
    "## Desired csv file format for quick interaction with neo4j\n",
    "output_df"
   ]
  }
 ],
 "metadata": {
  "kernelspec": {
   "display_name": "trextractor",
   "language": "python",
   "name": "python3"
  },
  "language_info": {
   "codemirror_mode": {
    "name": "ipython",
    "version": 3
   },
   "file_extension": ".py",
   "mimetype": "text/x-python",
   "name": "python",
   "nbconvert_exporter": "python",
   "pygments_lexer": "ipython3",
   "version": "3.10.14"
  }
 },
 "nbformat": 4,
 "nbformat_minor": 2
}
